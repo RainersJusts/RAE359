{
 "cells": [
  {
   "cell_type": "markdown",
   "metadata": {},
   "source": [
    "## Lamporta loģisko pulksteņu shēmas izveide Python programmēšanas valodā"
   ]
  },
  {
   "cell_type": "markdown",
   "metadata": {},
   "source": [
    "Pirms veidojam loģiskā pulksteņa shēmu, ir nepieciešams importēt \"lamport\" bibliotēku."
   ]
  },
  {
   "cell_type": "code",
   "execution_count": 21,
   "metadata": {},
   "outputs": [],
   "source": [
    "import lamport"
   ]
  },
  {
   "cell_type": "markdown",
   "metadata": {},
   "source": [
    "Pēc importēšanas mums ir pieejama visas Vitakera izveidotās funkcijas, ar kuru palīdzību varam Python valodā attēlot loģiskos pulksteņus."
   ]
  },
  {
   "cell_type": "markdown",
   "metadata": {},
   "source": [
    "Lai izveidotu vienu procesu, mēs pielietojam funkcijas definēšanas komandu \"def f(x)\". Šajā gadījumā tas tiek pierakstīts kā \"def f(clock)\", kur \"f\" norāda procesu. Neatkarīgi no izvēlēta burta procesi tiks veidoti alfabētiskā secībā. Nākamajam procesam burtu \"f\" vairs nevarēs lietot, lai neveidotos lietojumprogrammas kļūda."
   ]
  },
  {
   "cell_type": "code",
   "execution_count": 28,
   "metadata": {},
   "outputs": [],
   "source": [
    "def f(clock):\n",
    "    clock.send(1)\n",
    "    clock.recv(1)\n",
    "    clock.send(1)"
   ]
  },
  {
   "cell_type": "markdown",
   "metadata": {},
   "source": [
    "Iepriekš definētajā funckijā ir redzamas pieejamās funckijas: \"clock.send()\", \"clock.recv()\" un clock.local(). Šīs funkcijas veic sūtīšanas darbību, saņemšanas darbību un lokālu darbību procesā respektīvi."
   ]
  },
  {
   "cell_type": "markdown",
   "metadata": {},
   "source": [
    "Par cik kursa ietvaros tiek aplūkotas distributīvās sistēmas, mums ir vajadzīgi vairāki procesi, tādēļ tiek definēts vismaz vēl viens process:"
   ]
  },
  {
   "cell_type": "code",
   "execution_count": 29,
   "metadata": {},
   "outputs": [],
   "source": [
    "def g(clock):\n",
    "    clock.local()\n",
    "    clock.send(0)\n",
    "    clock.recv(0)\n",
    "    clock.local()\n",
    "    clock.recv(0)"
   ]
  },
  {
   "cell_type": "markdown",
   "metadata": {},
   "source": [
    "\"clock\" funckijas mainīgais norāda to, uz kurieni konkrētā darbība tiek veikta. Lokālai darbībai \"clock.local()\" nav mainīgā, jo darbība notiek tajā pašā procesā un nenotiek ziņojumapmaiņa ar citu procesu. Darbībām \"clock.send(x)\" un \"clock.recv(x)\" x vietā atrodas izvēlētais galamērķis - process. \"0\" apzīmē procesu _a_, \"1\" apzīmē procesu _b_, \"2\" apzīmē procesu _c_, u.t.t."
   ]
  },
  {
   "cell_type": "markdown",
   "metadata": {},
   "source": [
    "Ar \"lamport.wind()()\" funckiju mēs varam izveidot loģiskā pulksteņa attēlojumu. Pirmajās iekavās tiek ievietota matrica ar definētajiem procesiem. Vēl šeit ir iespējams piesaukt izveidotā attēla nosaukumu un formātu, piemēram, \"lamport.wind([f, g, h], \"clock.png\")()\", tomēr šī uzdevuma ietvaros tas nav nepieciešams. Pēc noklusējuma pēc \"lamport.wind()()\" piesaukšanas Python programmas atrašanās vietā tiks izveidots \"clock.svg\" fails, ja netiks definēts jauns nosaukums un atrašanās vieta."
   ]
  },
  {
   "cell_type": "code",
   "execution_count": 30,
   "metadata": {},
   "outputs": [
    {
     "data": {
      "image/png": "[encoded data removed]",
      "text/plain": [
       "<Figure size 432x288 with 1 Axes>"
      ]
     },
     "metadata": {
      "needs_background": "light"
     },
     "output_type": "display_data"
    }
   ],
   "source": [
    "lamport.wind([f, g])()"
   ]
  },
  {
   "cell_type": "markdown",
   "metadata": {},
   "source": [
    "Visas piesauktās darbības procesā notiek secīgi. Ja tiek definēta secībā sūtīšana un saņemšana, tad tādā secībā tās arī notiks, ja nākamajā procesā būs piesaukta šaņemšana un sūtīšana. Ja tiek vienā procesā piesaukta viena darbība, tad otrā procesā obligāti jābūt piesauktai pretdarbībai.\n",
    "\n",
    "Piesauktās darbības strādā pēc kārtas, kā tās tika piesauktas. Ja tika piesaukta sūtīšanas funckija pirmajā procesā, otrā procesa pirmā saņemšanas funckija pieņems sūtīto ziņojumu."
   ]
  },
  {
   "cell_type": "markdown",
   "metadata": {},
   "source": [
    "Rainers Leons Justs / 181REB259 / REBC01"
   ]
  },
  {
   "cell_type": "code",
   "execution_count": null,
   "metadata": {},
   "outputs": [],
   "source": []
  }
 ],
 "metadata": {
  "kernelspec": {
   "display_name": "Python 3",
   "language": "python",
   "name": "python3"
  },
  "language_info": {
   "codemirror_mode": {
    "name": "ipython",
    "version": 3
   },
   "file_extension": ".py",
   "mimetype": "text/x-python",
   "name": "python",
   "nbconvert_exporter": "python",
   "pygments_lexer": "ipython3",
   "version": "3.8.2"
  }
 },
 "nbformat": 4,
 "nbformat_minor": 4
}
